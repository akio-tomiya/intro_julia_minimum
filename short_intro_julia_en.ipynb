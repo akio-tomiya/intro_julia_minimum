{
 "cells": [
  {
   "cell_type": "markdown",
   "metadata": {},
   "source": [
    "# An short introduction to Julia for physicists\n",
    "\n",
    "- 2020/12/21 Akio Tomya(akio.tomiya_AT_riken.jp)　http://www2.yukawa.kyoto-u.ac.jp/~akio.tomiya/index_en.html\n",
    "\n",
    "Checked by julia version 1.5.1 on MAC os 10.14.6 \n",
    "\n",
    "## Why I wrote this\n",
    "\n",
    "1. My collaborators want to use Julia lang\n",
    "2. It is worth to have short introduction\n",
    "3. My note"
   ]
  },
  {
   "cell_type": "markdown",
   "metadata": {},
   "source": [
    "## Who am I?\n",
    "\n",
    "I am a physicists using ML to lattice QCD http://www2.yukawa.kyoto-u.ac.jp/~akio.tomiya/index_en.html\n",
    "\n",
    "Twitter: https://twitter.com/TomiyaAkio\n",
    "\n",
    "My book: https://www.amazon.com/Deep-Learning-Physics-Mathematical-Studies/dp/9813361077/ref=sr_1_3?dchild=1&keywords=deep+learning+and+physics&qid=1609298769&sr=8-3"
   ]
  },
  {
   "cell_type": "markdown",
   "metadata": {},
   "source": [
    "### Why physicisits\n",
    "\n",
    "My terminology is used in physics.\n",
    "\n",
    "I assume readers have heared about some numerical calculations."
   ]
  },
  {
   "cell_type": "markdown",
   "metadata": {},
   "source": [
    "### References\n",
    "\n",
    "1. Official web page\n",
    "2. Youtube"
   ]
  },
  {
   "cell_type": "markdown",
   "metadata": {},
   "source": [
    "<font color=\"red\">\n",
    "This is a short review, so I skipped several important stuff. Please refer other references.</font>"
   ]
  },
  {
   "cell_type": "markdown",
   "metadata": {},
   "source": [
    "## What is Julia？\n",
    "\n",
    "Why We Created Julia　https://julialang.org/blog/2012/02/why-we-created-julia/\n",
    "\n",
    "We want a language that's open source, with a liberal license. We want the speed of C with the dynamism of Ruby. We want a language that's homoiconic, with true macros like Lisp, but with obvious, familiar mathematical notation like Matlab. We want something as usable for general programming as Python, as easy for statistics as R, as natural for string processing as Perl, as powerful for linear algebra as Matlab, as good at gluing programs together as the shell. Something that is dirt simple to learn, yet keeps the most serious hackers happy. We want it interactive and we want it compiled.\n",
    "    (an omission of a middle part)\n",
    "Even though we recognize that we are inexcusably greedy, we still want to have it all. About two and a half years ago, we set out to create the language of our greed. It's not complete, but it's time for an initial[1] release — the language we've created is called Julia. It already delivers on 90% of our ungracious demands, and now it needs the ungracious demands of others to shape it further. So, if you are also a greedy, unreasonable, demanding programmer, we want you to give it a try.\n",
    "\n",
    "This represents all about Julia. We have v1.5.3 (Nov 9, 2020).\n",
    "\n",
    "(Ref) https://modelingguru.nasa.gov/docs/DOC-2625"
   ]
  },
  {
   "cell_type": "markdown",
   "metadata": {},
   "source": [
    "## How to start\n",
    "\n",
    "If you use mac os, it can be installed through homebrew https://brew.sh/ . And,\n",
    "```shellscript\n",
    "brew install --cask julia\n",
    "```\n",
    "to install Julia.\n",
    "\n",
    "For other OS, you can download a binary from https://julialang.org/downloads/ \n",
    "\n",
    "You can execute Julia code in three ways:\n",
    "\n",
    "1. REPL (repeat-evaluate print loop). A command prompt for Julia. Packages are also cotrolled by this.\n",
    "2. Jupyter notebook. To install Julia, type ``using Pkg; Pkg.add(\"IJulia\")`` in REPL.\n",
    "3. If you set a path, you can execute a code with typing ``julia PROGRAM.jl`` on a terminal.\n",
    "\n",
    "This note is made with Jupyter notebook but any of them is fine."
   ]
  },
  {
   "cell_type": "markdown",
   "metadata": {},
   "source": [
    "## Hello world\n",
    "\n",
    "We have two ways to show ``hello world'' in Julia,"
   ]
  },
  {
   "cell_type": "code",
   "execution_count": 1,
   "metadata": {},
   "outputs": [
    {
     "name": "stdout",
     "output_type": "stream",
     "text": [
      "hello world"
     ]
    }
   ],
   "source": [
    "print(\"hello world\")"
   ]
  },
  {
   "cell_type": "code",
   "execution_count": 2,
   "metadata": {},
   "outputs": [
    {
     "name": "stdout",
     "output_type": "stream",
     "text": [
      "hello world\n"
     ]
    }
   ],
   "source": [
    "println(\"hello world\")"
   ]
  },
  {
   "cell_type": "markdown",
   "metadata": {},
   "source": [
    "Only difference is, ``println`` contains a change line after the string.\n",
    "\n",
    "Variables can be shown using print/println,"
   ]
  },
  {
   "cell_type": "code",
   "execution_count": 1,
   "metadata": {},
   "outputs": [
    {
     "name": "stdout",
     "output_type": "stream",
     "text": [
      "var=12\n"
     ]
    }
   ],
   "source": [
    "a = 12\n",
    "println(\"var=$a\")"
   ]
  },
  {
   "cell_type": "markdown",
   "metadata": {},
   "source": [
    "calculation can be done in println,"
   ]
  },
  {
   "cell_type": "code",
   "execution_count": 2,
   "metadata": {},
   "outputs": [
    {
     "name": "stdout",
     "output_type": "stream",
     "text": [
      "var=6.0\n"
     ]
    }
   ],
   "source": [
    "a = 12\n",
    "println(\"var=$(a/2)\")"
   ]
  },
  {
   "cell_type": "markdown",
   "metadata": {},
   "source": [
    "There are two big differences than the other language.\n",
    "One is, the power operation can be done with ^ symbol.\n",
    "Another is, pi can be written as $\\pi$.\n",
    "$\\pi$ can be typed by \\pi with tab key.\n",
    "\n",
    "For example, an area of a circle with radius 2,"
   ]
  },
  {
   "cell_type": "code",
   "execution_count": 3,
   "metadata": {},
   "outputs": [
    {
     "name": "stdout",
     "output_type": "stream",
     "text": [
      "A=12.566370614359172\n"
     ]
    }
   ],
   "source": [
    "A = π*2^2\n",
    "println(\"A=$A\")"
   ]
  },
  {
   "cell_type": "markdown",
   "metadata": {},
   "source": [
    "You can use greek characters, for example,"
   ]
  },
  {
   "cell_type": "code",
   "execution_count": 6,
   "metadata": {},
   "outputs": [
    {
     "name": "stdout",
     "output_type": "stream",
     "text": [
      "ξ=1.2\n"
     ]
    }
   ],
   "source": [
    "ξ=1.2\n",
    "println(\"ξ=$ξ\")"
   ]
  },
  {
   "cell_type": "markdown",
   "metadata": {},
   "source": [
    "Strings after ``#``, it is treated as a comment,"
   ]
  },
  {
   "cell_type": "code",
   "execution_count": 4,
   "metadata": {},
   "outputs": [
    {
     "name": "stdout",
     "output_type": "stream",
     "text": [
      "1,2,3\n",
      "7,8,9\n"
     ]
    }
   ],
   "source": [
    "println(\"1,2,3\") #executed\n",
    "#println(\"4,5,6\") #comment\n",
    "println(\"7,8,9\") #executed"
   ]
  },
  {
   "cell_type": "markdown",
   "metadata": {},
   "source": [
    "## Array and matrix\n",
    "\n",
    "\n",
    "Array can be prepared with,"
   ]
  },
  {
   "cell_type": "code",
   "execution_count": 5,
   "metadata": {},
   "outputs": [],
   "source": [
    "a = [];"
   ]
  },
  {
   "cell_type": "markdown",
   "metadata": {},
   "source": [
    "Semi-collon in the end of the line is not mandatory because it supresses output to the Notebook.\n",
    "\n",
    "If you want to assume a type, like float, for example,"
   ]
  },
  {
   "cell_type": "code",
   "execution_count": 9,
   "metadata": {},
   "outputs": [],
   "source": [
    "a = Float64[];"
   ]
  },
  {
   "cell_type": "markdown",
   "metadata": {},
   "source": [
    "You can prepare an array with elements,"
   ]
  },
  {
   "cell_type": "code",
   "execution_count": 10,
   "metadata": {},
   "outputs": [
    {
     "name": "stdout",
     "output_type": "stream",
     "text": [
      "[4, 3, 2, 1]\n"
     ]
    }
   ],
   "source": [
    "a = [4,3,2,1];\n",
    "println(a)"
   ]
  },
  {
   "cell_type": "markdown",
   "metadata": {},
   "source": [
    "They can be combine like,"
   ]
  },
  {
   "cell_type": "code",
   "execution_count": 11,
   "metadata": {},
   "outputs": [
    {
     "name": "stdout",
     "output_type": "stream",
     "text": [
      "[4.0, 3.0, 2.0, 1.0]\n"
     ]
    }
   ],
   "source": [
    "a = Float64[4,3,2,1];\n",
    "println(a)"
   ]
  },
  {
   "cell_type": "markdown",
   "metadata": {},
   "source": [
    "type inference can be used,"
   ]
  },
  {
   "cell_type": "code",
   "execution_count": 6,
   "metadata": {},
   "outputs": [
    {
     "name": "stdout",
     "output_type": "stream",
     "text": [
      "[1.2, 1.3, 1.4]\n"
     ]
    }
   ],
   "source": [
    "a = [1.2, 1.3, 1.4]\n",
    "println(a)"
   ]
  },
  {
   "cell_type": "markdown",
   "metadata": {},
   "source": [
    "``append!`` and ``push!`` can add elements to an array,"
   ]
  },
  {
   "cell_type": "code",
   "execution_count": 13,
   "metadata": {},
   "outputs": [
    {
     "name": "stdout",
     "output_type": "stream",
     "text": [
      "Any[1, 3, 5]\n"
     ]
    }
   ],
   "source": [
    "a = []\n",
    "append!(a,1)\n",
    "append!(a,3)\n",
    "append!(a,5)\n",
    "println(a)"
   ]
  },
  {
   "cell_type": "markdown",
   "metadata": {},
   "source": [
    "! in append! is for emphasizing change arguments in a function.\n",
    "\n",
    "append! and push behave slightly differently,"
   ]
  },
  {
   "cell_type": "code",
   "execution_count": 7,
   "metadata": {},
   "outputs": [
    {
     "name": "stdout",
     "output_type": "stream",
     "text": [
      "Any[1, 2, 3, 4]\n"
     ]
    }
   ],
   "source": [
    "a=[]\n",
    "append!(a,[1,2])\n",
    "append!(a,[3,4])\n",
    "println(a)"
   ]
  },
  {
   "cell_type": "code",
   "execution_count": 8,
   "metadata": {},
   "outputs": [
    {
     "name": "stdout",
     "output_type": "stream",
     "text": [
      "Any[[1, 2], [3, 4]]\n"
     ]
    }
   ],
   "source": [
    "a=[]\n",
    "push!(a,[1,2])\n",
    "push!(a,[3,4])\n",
    "println(a)"
   ]
  },
  {
   "cell_type": "markdown",
   "metadata": {},
   "source": [
    "Matrices can be composed like,"
   ]
  },
  {
   "cell_type": "code",
   "execution_count": 9,
   "metadata": {},
   "outputs": [
    {
     "data": {
      "text/plain": [
       "2×2 Array{Float64,2}:\n",
       " 1.0  2.0\n",
       " 3.0  4.0"
      ]
     },
     "execution_count": 9,
     "metadata": {},
     "output_type": "execute_result"
    }
   ],
   "source": [
    "M = Float64[\n",
    "     1 2\n",
    "     3 4\n",
    "]"
   ]
  },
  {
   "cell_type": "markdown",
   "metadata": {},
   "source": [
    "type inference version is,"
   ]
  },
  {
   "cell_type": "code",
   "execution_count": 10,
   "metadata": {},
   "outputs": [
    {
     "data": {
      "text/plain": [
       "2×2 Array{Float64,2}:\n",
       " 1.0  2.0\n",
       " 3.0  4.0"
      ]
     },
     "execution_count": 10,
     "metadata": {},
     "output_type": "execute_result"
    }
   ],
   "source": [
    "M = [\n",
    "     1.0 2.0\n",
    "     3.0 4.0\n",
    "    ]"
   ]
  },
  {
   "cell_type": "markdown",
   "metadata": {},
   "source": [
    "Matrix vector multiplication can be performed as,"
   ]
  },
  {
   "cell_type": "code",
   "execution_count": 18,
   "metadata": {},
   "outputs": [
    {
     "name": "stdout",
     "output_type": "stream",
     "text": [
      "[6.0, 3.0]\n"
     ]
    }
   ],
   "source": [
    "M = [\n",
    "     0.0 3.0\n",
    "     3.0 0.0\n",
    "    ]\n",
    "v = [1.0, 2.0]\n",
    "println(M*v)"
   ]
  },
  {
   "cell_type": "markdown",
   "metadata": {},
   "source": [
    "There are two proucts for vectors,"
   ]
  },
  {
   "cell_type": "code",
   "execution_count": 19,
   "metadata": {},
   "outputs": [
    {
     "name": "stdout",
     "output_type": "stream",
     "text": [
      "[1.0 2.0; 2.0 4.0]\n",
      "5.0\n"
     ]
    }
   ],
   "source": [
    "v = [1.0, 2.0]\n",
    "println(v*v')\n",
    "println(v'*v)"
   ]
  },
  {
   "cell_type": "markdown",
   "metadata": {},
   "source": [
    "Here ``'`` means conjugation."
   ]
  },
  {
   "cell_type": "markdown",
   "metadata": {},
   "source": [
    "I do not explain in this note about complex numbers but\n",
    "to treat complex matrices, you can use ``ComplexF64[]``.\n",
    "Imaginary unit is ``im``."
   ]
  },
  {
   "cell_type": "markdown",
   "metadata": {},
   "source": [
    "To access an element in an array, put \\[\\] after the variable."
   ]
  },
  {
   "cell_type": "code",
   "execution_count": 20,
   "metadata": {},
   "outputs": [
    {
     "name": "stdout",
     "output_type": "stream",
     "text": [
      "2, 4\n"
     ]
    }
   ],
   "source": [
    "a = [2,4,6,8]\n",
    "println(\"$(a[1]), $(a[2])\")"
   ]
  },
  {
   "cell_type": "markdown",
   "metadata": {},
   "source": [
    "Index is usuary started from 1. The first element and last element can be access with \\[begin\\], \\[end\\]."
   ]
  },
  {
   "cell_type": "code",
   "execution_count": 11,
   "metadata": {},
   "outputs": [
    {
     "name": "stdout",
     "output_type": "stream",
     "text": [
      "2, 8\n"
     ]
    }
   ],
   "source": [
    "a = [2,4,6,8]\n",
    "println(\"$(a[begin]), $(a[end])\")"
   ]
  },
  {
   "cell_type": "markdown",
   "metadata": {},
   "source": [
    "## Change order of process (if, for, function)\n",
    "\n",
    "\n",
    "Here I explain, ``if``, ``for``, ``function``.\n",
    "\n",
    "### if\n",
    "\n",
    "You can change order of process with ``if``.\n",
    "For example, you can check a variable ``a`` is even or odd like,"
   ]
  },
  {
   "cell_type": "code",
   "execution_count": 22,
   "metadata": {},
   "outputs": [
    {
     "name": "stdout",
     "output_type": "stream",
     "text": [
      "2 is even\n"
     ]
    }
   ],
   "source": [
    "a = 2\n",
    "if a%2==0\n",
    "    println(\"$a is even\")\n",
    "else\n",
    "    println(\"$a is odd\")\n",
    "end"
   ]
  },
  {
   "cell_type": "markdown",
   "metadata": {},
   "source": [
    "Here ``%`` is an operator to calculate a reminder.\n",
    "\n",
    "You do not have to use ``else``.\n",
    "But a ``if`` block must consists with ``if`` ... ``end``."
   ]
  },
  {
   "cell_type": "markdown",
   "metadata": {},
   "source": [
    "### for\n",
    "\n",
    "A repetaition can be implemented with ``for``:"
   ]
  },
  {
   "cell_type": "code",
   "execution_count": 23,
   "metadata": {},
   "outputs": [
    {
     "name": "stdout",
     "output_type": "stream",
     "text": [
      "i=1-th repetation\n",
      "i=2-th repetation\n",
      "i=3-th repetation\n"
     ]
    }
   ],
   "source": [
    "for i=1:3\n",
    "    println(\"i=$i-th repetation\")\n",
    "end"
   ]
  },
  {
   "cell_type": "markdown",
   "metadata": {},
   "source": [
    "This block also requires ``end``.\n",
    "\n",
    "Julia has foreach type repetation,"
   ]
  },
  {
   "cell_type": "code",
   "execution_count": 24,
   "metadata": {},
   "outputs": [
    {
     "name": "stdout",
     "output_type": "stream",
     "text": [
      "1\n",
      "2\n",
      "3\n"
     ]
    }
   ],
   "source": [
    "li = [1,2,3]\n",
    "for el in li\n",
    "    println(el)\n",
    "end"
   ]
  },
  {
   "cell_type": "markdown",
   "metadata": {},
   "source": [
    "### function\n",
    "\n",
    "Subroutine can be implemented by  ``function`` block.\n",
    "This corresponds to ``def`` in Python.\n",
    "\n",
    "For example, to calculate a square of a given number,"
   ]
  },
  {
   "cell_type": "code",
   "execution_count": 25,
   "metadata": {},
   "outputs": [
    {
     "name": "stdout",
     "output_type": "stream",
     "text": [
      "1^2 = 1\n",
      "2^2 = 4\n"
     ]
    }
   ],
   "source": [
    "function square(x)\n",
    "    y=x^2\n",
    "    return y\n",
    "end\n",
    "println(\"1^2 = $(square(1))\")\n",
    "println(\"2^2 = $(square(2))\")"
   ]
  },
  {
   "cell_type": "markdown",
   "metadata": {},
   "source": [
    "Here, this is a technique to accelarete a Julia code,\n",
    "one should avoid top-level coding but wrap it with a function block.\n",
    "\n",
    "Following is a comparison of speed."
   ]
  },
  {
   "cell_type": "code",
   "execution_count": 29,
   "metadata": {},
   "outputs": [
    {
     "name": "stdout",
     "output_type": "stream",
     "text": [
      "  2.112277 seconds (80.00 M allocations: 1.490 GiB, 10.46% gc time)\n",
      "  1.535674 seconds (60.00 M allocations: 1.192 GiB, 11.66% gc time)\n"
     ]
    }
   ],
   "source": [
    "Nrepeat=10^7*2\n",
    "A = collect(1:100)  \n",
    "@time begin\n",
    "    for i=1:Nrepeat\n",
    "        K = sum(A)\n",
    "    end\n",
    "end\n",
    "#\n",
    "function calc_sum(A)\n",
    "    for i=1:Nrepeat\n",
    "        K = sum(A)\n",
    "    end\n",
    "end\n",
    "@time calc_sum(A)"
   ]
  },
  {
   "cell_type": "markdown",
   "metadata": {},
   "source": [
    "The first one is the elapsed time of top-level one \n",
    "and the second one is wrapped one.\n",
    "\n",
    "Difference between two of them are not big in this example\n",
    "but in practice, it can be significant.\n",
    "\n",
    "A way of coding with Julia can be,\n",
    "\n",
    "1. Prototyping with top-level coding.\n",
    "2. wrap it with a function block.\n",
    "3. Specify the type. Impose type stability.\n",
    "\n",
    "If you need speed, you should not use global varibles.\n",
    "If it is nessesary, you should you make shure it is a constant value like``const a=1``."
   ]
  },
  {
   "cell_type": "markdown",
   "metadata": {},
   "source": [
    "Here ``@time`` is a macro, which measures elaps time. There are bunch of macros."
   ]
  },
  {
   "cell_type": "markdown",
   "metadata": {},
   "source": [
    "## Plot\n",
    "\n",
    "Here I explain how to make a plot using PyPlot.\n",
    "This uses matplotlib.pyplot inside.\n",
    "Julia has ``Plots.jl``, which is an own plotting library but I think apparance of plots are better for PyPlots.\n",
    "\n",
    "<font color=\"red\">\n",
    "If you excecute this plot with mac os, and with\n",
    "``julia file``, you must export an environment variable,\n",
    "    \n",
    "```\n",
    "export MPLBACKEND=qt5agg\n",
    "```\n",
    "\n",
    "otherwise, os will crash.\n",
    "</font>\n",
    "\n",
    "First of all, you must load a library,"
   ]
  },
  {
   "cell_type": "code",
   "execution_count": 16,
   "metadata": {},
   "outputs": [
    {
     "name": "stderr",
     "output_type": "stream",
     "text": [
      "┌ Warning: PyPlot is using tkagg backend, which is known to cause crashes on MacOS (#410); use the MPLBACKEND environment variable to request a different backend.\n",
      "└ @ PyPlot /Users/akio/.julia/packages/PyPlot/XHEG0/src/init.jl:192\n"
     ]
    }
   ],
   "source": [
    "using PyPlot: plt"
   ]
  },
  {
   "cell_type": "markdown",
   "metadata": {},
   "source": [
    "here ``using`` is a command to load a module.\n",
    "To export ``bar`` command only in ``FOO`` module, one can use, ``using FOO: bar ``.\n",
    "If you use ``using PyPlot`` instead, you can omit ``plt.`` in following codes.\n",
    "\n",
    "Ref. [The Comprehensive Julia Tutorial - 6 - Modules\n",
    "](https://www.youtube.com/watch?v=-0lBmYanICo&feature=emb_title)\n",
    "\n",
    "Ref. [Using vs import](https://towardsdatascience.com/how-to-use-modules-in-julia-a27e31974b9c)\n",
    "\n",
    "Let us plot for the sine function,"
   ]
  },
  {
   "cell_type": "code",
   "execution_count": 30,
   "metadata": {},
   "outputs": [
    {
     "data": {
      "image/png": "[encoded data removed]",
      "text/plain": [
       "PyPlot.Figure(PyObject <Figure size 640x480 with 1 Axes>)"
      ]
     },
     "metadata": {},
     "output_type": "display_data"
    }
   ],
   "source": [
    "x=collect(0:0.1:2π) # prepare an array from 0 to 2π with a step-size 0.1.\n",
    "y=sin.(x) # apply sin for each element of x.\n",
    "plt.plot(x,y)\n",
    "plt.xlabel(raw\"$x$\")\n",
    "plt.ylabel(raw\"$\\sin(x)$\") #raw enables us to use LaTeX notation.\n",
    "plt.show()"
   ]
  },
  {
   "cell_type": "markdown",
   "metadata": {},
   "source": [
    "Here ``a:b:c`` means that making range object from ``a`` to ``c`` with a step-size ``b``.\n",
    "``collect`` converts range an object to an array.\n",
    "\n",
    "An operator ``.`` following to ``sin`` means that an element-wise operation."
   ]
  },
  {
   "cell_type": "markdown",
   "metadata": {},
   "source": [
    "plots with error bar can be,"
   ]
  },
  {
   "cell_type": "code",
   "execution_count": 19,
   "metadata": {},
   "outputs": [
    {
     "data": {
      "image/png": "[encoded data removed]",
      "text/plain": [
       "PyPlot.Figure(PyObject <Figure size 640x480 with 1 Axes>)"
      ]
     },
     "metadata": {},
     "output_type": "display_data"
    }
   ],
   "source": [
    "Ndata = 10\n",
    "x=range(0,1,length=Ndata)\n",
    "y=2*x\n",
    "e=rand(Float64,Ndata)/10 .+ 0.025 # \".+\" element-wise addition\n",
    "#\n",
    "plt.errorbar(x,y,yerr=e)\n",
    "plt.xlabel(\"x\")\n",
    "plt.show()"
   ]
  },
  {
   "cell_type": "markdown",
   "metadata": {},
   "source": [
    "Here ``rand()`` makes a random number, and its argument is a type and the number of elements.\n",
    "\n",
    "If you use it without arguments, it generates a random number,"
   ]
  },
  {
   "cell_type": "code",
   "execution_count": 20,
   "metadata": {
    "scrolled": true
   },
   "outputs": [
    {
     "name": "stdout",
     "output_type": "stream",
     "text": [
      "r=0.955002651560729\n",
      "r=0.484345366558276\n",
      "r=0.38197451195769827\n",
      "r=0.8676661959532814\n",
      "r=0.8583419384882576\n"
     ]
    }
   ],
   "source": [
    "for i =1:5\n",
    "    r=rand()\n",
    "    println(\"r=$r\")\n",
    "end"
   ]
  },
  {
   "cell_type": "markdown",
   "metadata": {},
   "source": [
    "We can make a histogram plots,"
   ]
  },
  {
   "cell_type": "code",
   "execution_count": 21,
   "metadata": {},
   "outputs": [
    {
     "data": {
      "image/png": "[encoded data removed]",
      "text/plain": [
       "PyPlot.Figure(PyObject <Figure size 640x480 with 1 Axes>)"
      ]
     },
     "metadata": {},
     "output_type": "display_data"
    }
   ],
   "source": [
    "x=randn(10000)\n",
    "plt.hist(x,bins=100)\n",
    "plt.xlabel(\"x\")\n",
    "plt.show()"
   ]
  },
  {
   "cell_type": "markdown",
   "metadata": {},
   "source": [
    "Here ``randn()`` makes a random number with the normal distoribution."
   ]
  },
  {
   "cell_type": "markdown",
   "metadata": {},
   "source": [
    "## Julia with Numpy \n",
    "\n",
    "Here I use numpy in Julia as an example of PyCall function.\n",
    "\n",
    "To use it, please refer,\n",
    "\n",
    "https://github.com/JuliaPy/PyCall.jl"
   ]
  },
  {
   "cell_type": "code",
   "execution_count": 31,
   "metadata": {},
   "outputs": [],
   "source": [
    "using PyCall\n",
    "np=pyimport(\"numpy\");"
   ]
  },
  {
   "cell_type": "markdown",
   "metadata": {},
   "source": [
    "After execution of above cell, you can use numpy functions like ``np.hoge`` as Python.\n",
    "\n",
    "For example, to use ``linspace ``,"
   ]
  },
  {
   "cell_type": "code",
   "execution_count": 32,
   "metadata": {},
   "outputs": [
    {
     "data": {
      "text/plain": [
       "5-element Array{Float64,1}:\n",
       " 0.0\n",
       " 0.25\n",
       " 0.5\n",
       " 0.75\n",
       " 1.0"
      ]
     },
     "execution_count": 32,
     "metadata": {},
     "output_type": "execute_result"
    }
   ],
   "source": [
    "np.linspace(0,1,5)"
   ]
  },
  {
   "cell_type": "markdown",
   "metadata": {},
   "source": [
    "results are julia objects.\n",
    "\n",
    "Note that, you can use ``np.loadtxt`` to load a text file."
   ]
  },
  {
   "cell_type": "markdown",
   "metadata": {},
   "source": [
    "# Toy examples of numerical caluculations\n",
    "\n",
    "Here I explain the Euler method for solving differential equations and Monte-Carlo integration for numerical integration."
   ]
  },
  {
   "cell_type": "markdown",
   "metadata": {},
   "source": [
    "## Euler method\n",
    "\n",
    "The Euler method is the simplest method to solve a ordinary differential equation,\n",
    "\n",
    "$$\n",
    "\\frac{dx(t)}{dt} = \\cdots\n",
    "$$"
   ]
  },
  {
   "cell_type": "markdown",
   "metadata": {},
   "source": [
    "To introduce the Euler method, \n",
    "we discretize the left hand side,\n",
    "\n",
    "$$\n",
    "\\frac{x(t+h)-x(t)}{h} = \\cdots\n",
    "$$\n",
    "\n",
    "and multiply $h$ to the both side,\n",
    "\n",
    "$$\n",
    "x(t+h)-x(t) = (\\cdots)\\times h\n",
    "$$\n",
    "\n",
    "and solve it to $x(t+h)$,\n",
    "\n",
    "$$\n",
    "x(t+h) = x(t) + (\\cdots)\\times h\n",
    "$$\n",
    "\n",
    "and solve it step by step."
   ]
  },
  {
   "cell_type": "markdown",
   "metadata": {},
   "source": [
    "We solve an equation,\n",
    "\n",
    "\n",
    "$$\n",
    "\\frac{dx}{dt} = -4(t-1)x\n",
    "$$\n",
    "\n",
    "The initial condition is, $x(t=0)=e^{-2}$.\n",
    "We solve it with a range $0<t<1$\n",
    "and take a step length is $h=0.1$."
   ]
  },
  {
   "cell_type": "markdown",
   "metadata": {},
   "source": [
    "Here we introduce a function of Julia.\n",
    "\n",
    "In REPL or Jupyter notebook, type ``\\euler`` and tab key, then you get, ``ℯ``.\n",
    "``ℯ`` is different from ``e``, and it represents the Napia constant,"
   ]
  },
  {
   "cell_type": "code",
   "execution_count": 33,
   "metadata": {},
   "outputs": [
    {
     "data": {
      "text/plain": [
       "ℯ = 2.7182818284590..."
      ]
     },
     "execution_count": 33,
     "metadata": {},
     "output_type": "execute_result"
    }
   ],
   "source": [
    "ℯ"
   ]
  },
  {
   "cell_type": "markdown",
   "metadata": {},
   "source": [
    "Following is an example of the Eular method,"
   ]
  },
  {
   "cell_type": "code",
   "execution_count": 34,
   "metadata": {},
   "outputs": [
    {
     "data": {
      "image/png": "[encoded data removed]",
      "text/plain": [
       "PyPlot.Figure(PyObject <Figure size 640x480 with 1 Axes>)"
      ]
     },
     "metadata": {},
     "output_type": "display_data"
    }
   ],
   "source": [
    "using PyPlot: plt #To make this cell self-contained\n",
    "\n",
    "#\n",
    "# Plot Exact solution\n",
    "t_plot=collect(0:0.05:1)\n",
    "x_plot=ℯ.^(-2*(t_plot.-1).^2)\n",
    "plt.plot(t_plot,x_plot,label=\"Exact\")\n",
    "#\n",
    "function eular_method(x_init,tmin,tmax;h,line) # semi-collon in the argument is key ward argument\n",
    "    Nmax = Int((tmax-tmin)/h) # Int(...) means casting of type to integer\n",
    "    x = x_init\n",
    "    t_plot=Float64[0.0]\n",
    "    x_plot=Float64[x]\n",
    "    for it=1:Nmax\n",
    "        t=tmin+it*h\n",
    "        x=x-4.0*(t-1.0)*x*h\n",
    "        append!(t_plot,t)\n",
    "        append!(x_plot,x)\n",
    "    end\n",
    "    if line\n",
    "        plt.plot(t_plot,x_plot,label=\"Euler h=$h\",color=\"red\")\n",
    "    else\n",
    "        plt.scatter(t_plot,x_plot,label=\"Euler h=$h\",marker=\".\")\n",
    "    end\n",
    "end\n",
    "eular_method(ℯ^(-2),0.0,1.0,h=0.1,line=false)\n",
    "eular_method(ℯ^(-2),0.0,1.0,h=0.01,line=false)\n",
    "eular_method(ℯ^(-2),0.0,1.0,h=0.001,line=true)\n",
    "#\n",
    "plt.ylabel(raw\"$x(t)$\") \n",
    "plt.xlabel(raw\"$t$\") \n",
    "plt.legend() # show label\n",
    "plt.ylim(0,1.2) # set range of y axis\n",
    "plt.show()"
   ]
  },
  {
   "cell_type": "markdown",
   "metadata": {},
   "source": [
    "## Monte-Carlo integration"
   ]
  },
  {
   "cell_type": "markdown",
   "metadata": {},
   "source": [
    "Here we calculate pi using the Monte-Carlo integration as an exmple.\n",
    "\n",
    "Following method uses a fact that the ratio of a square and circle in the first quadrant is $π/4$.\n",
    "\n",
    "Error of the calculation is $O(1/\\sqrt{N})$ for a trial $N$ and it is large compare to the other integration schemes."
   ]
  },
  {
   "cell_type": "code",
   "execution_count": 35,
   "metadata": {},
   "outputs": [
    {
     "data": {
      "image/png": "[encoded data removed]",
      "text/plain": [
       "PyPlot.Figure(PyObject <Figure size 640x480 with 1 Axes>)"
      ]
     },
     "metadata": {},
     "output_type": "display_data"
    },
    {
     "name": "stdout",
     "output_type": "stream",
     "text": [
      "pi10=3.2\n",
      "pi500=3.176\n"
     ]
    }
   ],
   "source": [
    "using PyPlot: plt #To make this cell self-contained\n",
    "\n",
    "function montecarlo_pi(Nmax=10) # \"=\" in the argument is called default variable.\n",
    "    cnt = 0\n",
    "    x_plot=[]\n",
    "    y_plot=[]\n",
    "    for i=1:Nmax\n",
    "        x=rand()\n",
    "        y=rand()\n",
    "        if x^2+y^2 < 1\n",
    "            cnt+=1\n",
    "        end\n",
    "        append!(x_plot,x)\n",
    "        append!(y_plot,y)\n",
    "    end\n",
    "    plt.scatter(x_plot,y_plot,label=\"Monte-carlo N=$Nmax\",marker=\".\",alpha=0.5)\n",
    "    return cnt/Nmax*4 # pi = 4*(pi/4)\n",
    "end\n",
    "pi10=montecarlo_pi()\n",
    "println(\"pi10=$pi10\")\n",
    "pi500=montecarlo_pi(500)\n",
    "println(\"pi500=$pi500\")\n",
    "#=\n",
    "pi10000=montecarlo_pi(10000)\n",
    "println(\"pi10000=$pi10000\")\n",
    "=#\n",
    "#\n",
    "θ = collect(0:0.1:π/2)\n",
    "x_plot = cos.(θ)\n",
    "y_plot = sin.(θ)\n",
    "plt.plot(x_plot,y_plot,color=\"red\")\n",
    "#\n",
    "plt.axes().set_aspect(\"equal\")\n",
    "plt.xlim(-0.05,1.5)\n",
    "plt.ylim(-0.05,1.5)\n",
    "plt.legend() # show label\n",
    "plt.show()"
   ]
  },
  {
   "cell_type": "markdown",
   "metadata": {},
   "source": [
    "here\n",
    "```\n",
    "#=\n",
    "...\n",
    "=#\n",
    "```\n",
    "means comments for multiple lines."
   ]
  },
  {
   "cell_type": "markdown",
   "metadata": {},
   "source": [
    "## Linear algebra\n",
    "\n",
    "I do not explain in details but here I quickly show some functions of linear algebra in Julia.\n",
    "It requires LinearAlgebra module."
   ]
  },
  {
   "cell_type": "code",
   "execution_count": 36,
   "metadata": {},
   "outputs": [],
   "source": [
    "using LinearAlgebra"
   ]
  },
  {
   "cell_type": "markdown",
   "metadata": {},
   "source": [
    "Followings are typical functions."
   ]
  },
  {
   "cell_type": "code",
   "execution_count": 37,
   "metadata": {},
   "outputs": [
    {
     "name": "stdout",
     "output_type": "stream",
     "text": [
      "tr(A)=3\n"
     ]
    }
   ],
   "source": [
    "# trace\n",
    "A = [\n",
    "    1 0\n",
    "    0 2\n",
    "]\n",
    "println(\"tr(A)=$(tr(A))\")"
   ]
  },
  {
   "cell_type": "code",
   "execution_count": 37,
   "metadata": {},
   "outputs": [
    {
     "name": "stdout",
     "output_type": "stream",
     "text": [
      "inv(A)=[1.0 0.0; 0.0 0.5]\n"
     ]
    }
   ],
   "source": [
    "# inverse of a matric\n",
    "A = [\n",
    "    1 0\n",
    "    0 2\n",
    "]\n",
    "println(\"inv(A)=$(inv(A))\")"
   ]
  },
  {
   "cell_type": "code",
   "execution_count": 38,
   "metadata": {},
   "outputs": [
    {
     "name": "stdout",
     "output_type": "stream",
     "text": [
      "det(A)=2.0\n"
     ]
    }
   ],
   "source": [
    "# determinant\n",
    "A = [\n",
    "    1 0\n",
    "    0 2\n",
    "]\n",
    "println(\"det(A)=$(det(A))\")"
   ]
  },
  {
   "cell_type": "code",
   "execution_count": null,
   "metadata": {},
   "outputs": [],
   "source": []
  }
 ],
 "metadata": {
  "kernelspec": {
   "display_name": "Julia 1.5.1",
   "language": "julia",
   "name": "julia-1.5"
  },
  "language_info": {
   "file_extension": ".jl",
   "mimetype": "application/julia",
   "name": "julia",
   "version": "1.5.1"
  }
 },
 "nbformat": 4,
 "nbformat_minor": 2
}
