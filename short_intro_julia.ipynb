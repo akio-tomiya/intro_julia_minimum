{
 "cells": [
  {
   "cell_type": "markdown",
   "metadata": {},
   "source": [
    "# 数値計算が専門でない理系向けのJulia入門\n",
    "\n",
    "- 2020/12/21 富谷昭夫(akio.tomiya_AT_riken.jp)　http://www2.yukawa.kyoto-u.ac.jp/~akio.tomiya/\n",
    "\n",
    "julia version 1.5.1 on MAC os 10.14.6 で動作確認。\n",
    "\n",
    "## なぜ書いた？\n",
    "\n",
    "1. 共同研究者がJulia をやりたいと言ったので。\n",
    "2. ミニマムのレビューがあってもいいかなということで。\n",
    "3. 備忘録。"
   ]
  },
  {
   "cell_type": "markdown",
   "metadata": {},
   "source": [
    "## だれ？\n",
    "\n",
    "機械学習を素粒子理論物理に使いたい人。詳細は http://www2.yukawa.kyoto-u.ac.jp/~akio.tomiya/aboutme.html など。\n",
    "\n",
    "Twitter: https://twitter.com/TomiyaAkio\n",
    "\n",
    "Zenn: https://zenn.dev/akio_tomiya\n",
    "\n",
    "書いた本: https://www.amazon.co.jp/s?i=stripbooks&rh=p_27%3A%E5%AF%8C%E8%B0%B7+%E6%98%AD%E5%A4%AB&s=relevancerank&text=%E5%AF%8C%E8%B0%B7+%E6%98%AD%E5%A4%AB&ref=dp_byline_sr_book_17"
   ]
  },
  {
   "cell_type": "markdown",
   "metadata": {},
   "source": [
    "### なぜ理系向け？\n",
    "\n",
    "計算の例や用語として理系向けだと思われる。\n",
    "\n",
    "数値計算は大学の講義で耳にしたことあるくらいの知識を仮定する。"
   ]
  },
  {
   "cell_type": "markdown",
   "metadata": {},
   "source": [
    "### 参考になる文献など\n",
    "\n",
    "1. 1からわかるJulia https://www.amazon.co.jp/dp/433902905X/ref=cm_sw_r_tw_dp_x_3Tm4FbKJC2XKT 電子版あり\n",
    "2. 永井佑紀さんのQiita https://qiita.com/cometscome_phys\n",
    "3. 黒木玄さんのツイッター https://twitter.com/genkuroki\n",
    "\n",
    "この他、公式サイトやオライリーの本もある。またYoutube に多数の動画もある。\n",
    "バージョン1より前と後で異なることがあるので、バージョンは要確認。"
   ]
  },
  {
   "cell_type": "markdown",
   "metadata": {},
   "source": [
    "<font color=\"red\">書いていないことも多数あるが、それらが重要でないわけでない。またそれらは上の参考文献などで補って欲しい。</font>"
   ]
  },
  {
   "cell_type": "markdown",
   "metadata": {},
   "source": [
    "## Julia とは？\n",
    "\n",
    "なぜ僕らはJuliaを作ったか（翻訳）https://marui.hatenablog.com/entry/20120221/1329823079\n",
    "\n",
    "    僕らが欲しい言語はこんな感じだ。まず、ゆるいライセンスのオープンソースで、Cの速度とRubyの動的さが欲しい。Lispのような真のマクロが使える同図象性のある言語で、Matlabのように分かりやすい数学の記述をしたい。Pythonのように汎用的に使いたいし、Rの統計処理、Perlの文字列処理、Matlabの線形代数計算も要る。シェルのように簡単にいくつかのパーツをつなぎ合わせたい。チョー簡単に習えて、超上級ハッカーも満足する言語。インタラクティブに使えて、かつコンパイルできる言語が欲しい。\n",
    "    (中略)\n",
    "    僕らがごまかしようのないほど欲張りなのは分かってるけど、それでもぜんぶ欲しいんだ。二年半ほど前、この欲にまみれた言語を作り始めた。まだ完成してないけど、そろそろ1.0のリリースの時期だ。僕らが作った言語の名前はJulia。すでに僕らの無礼な要求に9割方は応えてくれてるけど、ちゃんとした形になるためには僕ら以外の要求も聞かないといけない。だから、君がもし欲張りで理不尽でわがままなプログラマなら、ちょいとこいつを試してもらいたいんだ。\n",
    "    \n",
    "これに尽きてる。そして実際速く、2020年末現在、v1.5.3 (Nov 9, 2020)までリリースされている。\n",
    "\n",
    "(参考) https://modelingguru.nasa.gov/docs/DOC-2625"
   ]
  },
  {
   "cell_type": "markdown",
   "metadata": {},
   "source": [
    "## インストール\n",
    "\n",
    "mac ならhomebrew https://brew.sh/index_ja からインストールできる。homebrew が使える状況なら\n",
    "```shellscript\n",
    "brew install --cask julia\n",
    "```\n",
    "とターミナルに入力すればOK。\n",
    "\n",
    "またそれ以外のOSでも、Julia の公式サイト https://julialang.org/downloads/ から\n",
    "バイナリ(実行ファイル) をダウンロードできる\n",
    "\n",
    "実行法は3 つあり、\n",
    "\n",
    "1. REPL (repeat-evaluate print loop)。Julia の実行ファイルを起動すると立ち上がるコマンドプロンプト。簡単な計算ならこれで\n",
    "OK\n",
    "2. Jupyter notebook Pythonでよく使われるJupyter でももちろんJulia を使える(Jupyter のJはJuliaのJ)。 REPL 上で ``using Pkg; Pkg.add(\"IJulia\")`` を実行すれば使えるようになる。\n",
    "3. スクリプトとして実行。パスが通っていれば、``julia 実行ファイル``とすると使える。実行後にJIT(Just-in-time)コンパイラが\n",
    "走って、動作部品ごとにコンパイルが自動的に通り、実行される。\n",
    "\n",
    "このノートでは、Jupyter notebookでの実行を念頭において説明するが、実際はどれでも良い。\n",
    "\n"
   ]
  },
  {
   "cell_type": "markdown",
   "metadata": {},
   "source": [
    "## Hello world\n",
    "\n",
    "まずは画面にhellow world を出してみる。2種類の方法がある。"
   ]
  },
  {
   "cell_type": "code",
   "execution_count": 1,
   "metadata": {},
   "outputs": [
    {
     "name": "stdout",
     "output_type": "stream",
     "text": [
      "hello world"
     ]
    }
   ],
   "source": [
    "print(\"hello world\")"
   ]
  },
  {
   "cell_type": "code",
   "execution_count": 2,
   "metadata": {},
   "outputs": [
    {
     "name": "stdout",
     "output_type": "stream",
     "text": [
      "hello world\n"
     ]
    }
   ],
   "source": [
    "println(\"hello world\")"
   ]
  },
  {
   "cell_type": "markdown",
   "metadata": {},
   "source": [
    "違いは、printは最後に改行が入らず、printlnは改行が入る。\n",
    "println はprint line のことらしい。\n",
    "\n",
    "変数の表示も簡単にできる。"
   ]
  },
  {
   "cell_type": "code",
   "execution_count": 3,
   "metadata": {},
   "outputs": [
    {
     "name": "stdout",
     "output_type": "stream",
     "text": [
      "変数=12\n"
     ]
    }
   ],
   "source": [
    "a = 12\n",
    "println(\"変数=$a\")"
   ]
  },
  {
   "cell_type": "markdown",
   "metadata": {},
   "source": [
    "また、print内で計算もできる。"
   ]
  },
  {
   "cell_type": "code",
   "execution_count": 4,
   "metadata": {},
   "outputs": [
    {
     "name": "stdout",
     "output_type": "stream",
     "text": [
      "変数=6.0\n"
     ]
    }
   ],
   "source": [
    "a = 12\n",
    "println(\"変数=$(a/2)\")"
   ]
  },
  {
   "cell_type": "markdown",
   "metadata": {},
   "source": [
    "演算で他のプログラミング言語と大きく違うところは巾乗を\\^2 と書くところ、また円周率をπとかける。\n",
    "たとえば半径2の円の面積を$A$とすると、"
   ]
  },
  {
   "cell_type": "code",
   "execution_count": 5,
   "metadata": {},
   "outputs": [
    {
     "name": "stdout",
     "output_type": "stream",
     "text": [
      "円周率=12.566370614359172\n"
     ]
    }
   ],
   "source": [
    "A = π*2^2\n",
    "println(\"円周率=$A\")"
   ]
  },
  {
   "cell_type": "markdown",
   "metadata": {},
   "source": [
    "とかける。ギリシャアルファベットの変数も使えるため、教科書に載っている式を書くことができる。"
   ]
  },
  {
   "cell_type": "code",
   "execution_count": 6,
   "metadata": {},
   "outputs": [
    {
     "name": "stdout",
     "output_type": "stream",
     "text": [
      "ξ=1.2\n"
     ]
    }
   ],
   "source": [
    "ξ=1.2\n",
    "println(\"ξ=$ξ\")"
   ]
  },
  {
   "cell_type": "markdown",
   "metadata": {},
   "source": [
    "コメントは、``#``に続けてかけば、その行が改行されるまでコメントして、実行されない"
   ]
  },
  {
   "cell_type": "code",
   "execution_count": 7,
   "metadata": {},
   "outputs": [
    {
     "name": "stdout",
     "output_type": "stream",
     "text": [
      "1,2,3\n",
      "7,8,9\n"
     ]
    }
   ],
   "source": [
    "println(\"1,2,3\") #実行される\n",
    "#println(\"4,5,6\") #実行されない\n",
    "println(\"7,8,9\") #実行される"
   ]
  },
  {
   "cell_type": "markdown",
   "metadata": {},
   "source": [
    "## 配列と行列\n",
    "\n",
    "数値計算において配列変数は必須である。配列変数は"
   ]
  },
  {
   "cell_type": "code",
   "execution_count": 8,
   "metadata": {},
   "outputs": [],
   "source": [
    "a = [];"
   ]
  },
  {
   "cell_type": "markdown",
   "metadata": {},
   "source": [
    "で準備できる。最後のセミコロン; はJupyter 上でJulia を使う際に出力を抑える記号で本質的な意味はないので省いても良い。\n",
    "また、浮動小数など型を指定したい場合、"
   ]
  },
  {
   "cell_type": "code",
   "execution_count": 9,
   "metadata": {},
   "outputs": [],
   "source": [
    "a = Float64[];"
   ]
  },
  {
   "cell_type": "markdown",
   "metadata": {},
   "source": [
    "とすれば良い。もちろん"
   ]
  },
  {
   "cell_type": "code",
   "execution_count": 10,
   "metadata": {},
   "outputs": [
    {
     "name": "stdout",
     "output_type": "stream",
     "text": [
      "[4, 3, 2, 1]\n"
     ]
    }
   ],
   "source": [
    "a = [4,3,2,1];\n",
    "println(a)"
   ]
  },
  {
   "cell_type": "markdown",
   "metadata": {},
   "source": [
    "などとすれば、要素をいれて定義できる。\n",
    "浮動小数などを指定して配列を用意するには"
   ]
  },
  {
   "cell_type": "code",
   "execution_count": 11,
   "metadata": {},
   "outputs": [
    {
     "name": "stdout",
     "output_type": "stream",
     "text": [
      "[4.0, 3.0, 2.0, 1.0]\n"
     ]
    }
   ],
   "source": [
    "a = Float64[4,3,2,1];\n",
    "println(a)"
   ]
  },
  {
   "cell_type": "markdown",
   "metadata": {},
   "source": [
    "とすれば良い。また型推定をもちいて"
   ]
  },
  {
   "cell_type": "code",
   "execution_count": 12,
   "metadata": {},
   "outputs": [
    {
     "name": "stdout",
     "output_type": "stream",
     "text": [
      "[1.2, 1.3, 1.4]\n"
     ]
    }
   ],
   "source": [
    "a = [1.2, 1.3, 1.4]\n",
    "println(a)"
   ]
  },
  {
   "cell_type": "markdown",
   "metadata": {},
   "source": [
    "と自動的に型が決まる。\n",
    "\n",
    "さらに要素を追加したければ、\n",
    "append!とpush!が使用できる。"
   ]
  },
  {
   "cell_type": "code",
   "execution_count": 13,
   "metadata": {},
   "outputs": [
    {
     "name": "stdout",
     "output_type": "stream",
     "text": [
      "Any[1, 3, 5]\n"
     ]
    }
   ],
   "source": [
    "a = []\n",
    "append!(a,1)\n",
    "append!(a,3)\n",
    "append!(a,5)\n",
    "println(a)"
   ]
  },
  {
   "cell_type": "markdown",
   "metadata": {},
   "source": [
    "append! の!は、引数(ひきすう)の変数を変える関数であることを明示的にするためにつけるものである。\n",
    "\n",
    "append!の他にpush!もあるが、配列を追加する時の動作が下記のように少し異なる。"
   ]
  },
  {
   "cell_type": "code",
   "execution_count": 14,
   "metadata": {},
   "outputs": [
    {
     "name": "stdout",
     "output_type": "stream",
     "text": [
      "Any[1, 2, 3, 4]\n"
     ]
    }
   ],
   "source": [
    "a=[]\n",
    "append!(a,[1,2])\n",
    "append!(a,[3,4])\n",
    "println(a)"
   ]
  },
  {
   "cell_type": "code",
   "execution_count": 15,
   "metadata": {},
   "outputs": [
    {
     "name": "stdout",
     "output_type": "stream",
     "text": [
      "Any[[1, 2], [3, 4]]\n"
     ]
    }
   ],
   "source": [
    "a=[]\n",
    "push!(a,[1,2])\n",
    "push!(a,[3,4])\n",
    "println(a)"
   ]
  },
  {
   "cell_type": "markdown",
   "metadata": {},
   "source": [
    "行列は、以下のように作れる。"
   ]
  },
  {
   "cell_type": "code",
   "execution_count": 16,
   "metadata": {},
   "outputs": [
    {
     "data": {
      "text/plain": [
       "2×2 Array{Float64,2}:\n",
       " 1.0  2.0\n",
       " 3.0  4.0"
      ]
     },
     "execution_count": 16,
     "metadata": {},
     "output_type": "execute_result"
    }
   ],
   "source": [
    "M = Float64[\n",
    "     1 2\n",
    "     3 4\n",
    "]"
   ]
  },
  {
   "cell_type": "markdown",
   "metadata": {},
   "source": [
    "型指定しない作り方もできて、型推定を使うなら、"
   ]
  },
  {
   "cell_type": "code",
   "execution_count": 17,
   "metadata": {},
   "outputs": [
    {
     "data": {
      "text/plain": [
       "2×2 Array{Float64,2}:\n",
       " 1.0  2.0\n",
       " 3.0  4.0"
      ]
     },
     "execution_count": 17,
     "metadata": {},
     "output_type": "execute_result"
    }
   ],
   "source": [
    "M = [\n",
    "     1.0 2.0\n",
    "     3.0 4.0\n",
    "    ]"
   ]
  },
  {
   "cell_type": "markdown",
   "metadata": {},
   "source": [
    "としても良い。\n",
    "\n",
    "行列とベクトル積は、次のようにできる。\n",
    "ベクトルは単に配列として用意して、\n",
    "掛け算をおこなえば良い。"
   ]
  },
  {
   "cell_type": "code",
   "execution_count": 18,
   "metadata": {},
   "outputs": [
    {
     "name": "stdout",
     "output_type": "stream",
     "text": [
      "[6.0, 3.0]\n"
     ]
    }
   ],
   "source": [
    "M = [\n",
    "     0.0 3.0\n",
    "     3.0 0.0\n",
    "    ]\n",
    "v = [1.0, 2.0]\n",
    "println(M*v)"
   ]
  },
  {
   "cell_type": "markdown",
   "metadata": {},
   "source": [
    "ベクトル同士の演算として下記のものがある。"
   ]
  },
  {
   "cell_type": "code",
   "execution_count": 19,
   "metadata": {},
   "outputs": [
    {
     "name": "stdout",
     "output_type": "stream",
     "text": [
      "[1.0 2.0; 2.0 4.0]\n",
      "5.0\n"
     ]
    }
   ],
   "source": [
    "v = [1.0, 2.0]\n",
    "println(v*v')\n",
    "println(v'*v)"
   ]
  },
  {
   "cell_type": "markdown",
   "metadata": {},
   "source": [
    "ここで'は共役を取る操作を表す。\n",
    "つまりベクトルと共役ベクトルの積は行列(2階のテンソル)となり、\n",
    "共役ベクトルとベクトルの積は数(つまり内積)となる。"
   ]
  },
  {
   "cell_type": "markdown",
   "metadata": {},
   "source": [
    "このノートでは出てこないが、複素数配列、行列を扱うには、``ComplexF64[]`` を使えば良い。また虚数単位は、``im``である。"
   ]
  },
  {
   "cell_type": "markdown",
   "metadata": {},
   "source": [
    "配列や行列の要素にアクセスするには、\\[数\\]を変数のあとにつければいいが、\n",
    "インデックスは1から始まることに注意。"
   ]
  },
  {
   "cell_type": "code",
   "execution_count": 20,
   "metadata": {},
   "outputs": [
    {
     "name": "stdout",
     "output_type": "stream",
     "text": [
      "2, 4\n"
     ]
    }
   ],
   "source": [
    "a = [2,4,6,8]\n",
    "println(\"$(a[1]), $(a[2])\")"
   ]
  },
  {
   "cell_type": "markdown",
   "metadata": {},
   "source": [
    "## 処理順序を変える (if, for, function)\n",
    "\n",
    "\n",
    "ここではプログラムの処理順序を制御する3つの機能if、for、functionを紹介する。\n",
    "\n",
    "### if\n",
    "\n",
    "if を使うと、変数の内容によってプログラムの処理を変えることができる、\n",
    "たとえば、変数``a``の偶奇を判別するには、"
   ]
  },
  {
   "cell_type": "code",
   "execution_count": 21,
   "metadata": {},
   "outputs": [
    {
     "name": "stdout",
     "output_type": "stream",
     "text": [
      "2 は偶数\n"
     ]
    }
   ],
   "source": [
    "a = 2\n",
    "if a%2==0\n",
    "    println(\"$a は偶数\")\n",
    "else\n",
    "    println(\"$a は奇数\")\n",
    "end"
   ]
  },
  {
   "cell_type": "markdown",
   "metadata": {},
   "source": [
    "とできる。``%``は、あまりを求める演算子。\n",
    "\n",
    "また、``else`` は省略できるがifブロックは、``if`` ... ``end`` のようにend で終わる必要がある。"
   ]
  },
  {
   "cell_type": "markdown",
   "metadata": {},
   "source": [
    "### for\n",
    "\n",
    "繰り返し処理はfor でかける。"
   ]
  },
  {
   "cell_type": "code",
   "execution_count": 22,
   "metadata": {},
   "outputs": [
    {
     "name": "stdout",
     "output_type": "stream",
     "text": [
      "繰り返し処理 i=1 番目\n",
      "繰り返し処理 i=2 番目\n",
      "繰り返し処理 i=3 番目\n"
     ]
    }
   ],
   "source": [
    "for i=1:3\n",
    "    println(\"繰り返し処理 i=$i 番目\")\n",
    "end"
   ]
  },
  {
   "cell_type": "markdown",
   "metadata": {},
   "source": [
    "こちらも``end``が必要である。\n",
    "Python と同じ形のfor (他言語のforeach)もできて、"
   ]
  },
  {
   "cell_type": "code",
   "execution_count": 23,
   "metadata": {},
   "outputs": [
    {
     "name": "stdout",
     "output_type": "stream",
     "text": [
      "1\n",
      "2\n",
      "3\n"
     ]
    }
   ],
   "source": [
    "li = [1,2,3]\n",
    "for el in li\n",
    "    println(el)\n",
    "end"
   ]
  },
  {
   "cell_type": "markdown",
   "metadata": {},
   "source": [
    "である(というか、2つは実は同じ手法である)。"
   ]
  },
  {
   "cell_type": "markdown",
   "metadata": {},
   "source": [
    "### function\n",
    "\n",
    "複数の処理をまとめておいたり、共通化するには、\n",
    "``function``を使えば良い。これはpython の``def ``である。\n",
    "\n",
    "たとえば2乗を計算する関数は、"
   ]
  },
  {
   "cell_type": "code",
   "execution_count": 24,
   "metadata": {},
   "outputs": [
    {
     "name": "stdout",
     "output_type": "stream",
     "text": [
      "1^2 = 1\n",
      "2^2 = 4\n"
     ]
    }
   ],
   "source": [
    "function square(x)\n",
    "    y=x^2\n",
    "    return y\n",
    "end\n",
    "println(\"1^2 = $(square(1))\")\n",
    "println(\"2^2 = $(square(2))\")"
   ]
  },
  {
   "cell_type": "markdown",
   "metadata": {},
   "source": [
    "とできる。これはJulia のコードの高速化のテクニックであるが、\n",
    "トップレベル(functionなどで囲まれていない部分)での処理は避けて、functionでくるむというのがよい。\n",
    "\n",
    "下記は実行速度の比較である。"
   ]
  },
  {
   "cell_type": "code",
   "execution_count": 25,
   "metadata": {},
   "outputs": [
    {
     "name": "stdout",
     "output_type": "stream",
     "text": [
      "  2.483032 seconds (80.00 M allocations: 1.490 GiB, 10.57% gc time)\n",
      "  1.675558 seconds (60.00 M allocations: 1.192 GiB, 11.54% gc time)\n"
     ]
    }
   ],
   "source": [
    "Nrepeat=10^7*2\n",
    "A = collect(1:100) #1から1000までを配列として代入。 \n",
    "@time begin\n",
    "    for i=1:Nrepeat\n",
    "        K = sum(A)\n",
    "    end\n",
    "end\n",
    "function calc_sum(A)\n",
    "    for i=1:Nrepeat\n",
    "        K = sum(A)\n",
    "    end\n",
    "end\n",
    "#\n",
    "@time calc_sum(A)"
   ]
  },
  {
   "cell_type": "markdown",
   "metadata": {},
   "source": [
    "上から順に、トップレベルの処理(をbegin-endブロックで囲んだもの)、function で包んだ和である。\n",
    "\n",
    "今の例だと差は僅かであるが、本格的な計算の場合には差はより拡大する。\n",
    "Julia のプログラムの書き方として、\n",
    "\n",
    "1. とりあえずトップレベルに書く\n",
    "2. function でくるみ、直後に呼び出す形にする。\n",
    "3. 型指定をする。さらに関数内で型が変わらないように工夫する。\n",
    "\n",
    "という順番があり得る。もちろん2までで十分な場合もある。\n",
    "\n",
    "またグローバル変数はなるべく避ける。グローバルな定数を使う場合には``const a=1``などとして、値が変わらないことを明示すべきである。"
   ]
  },
  {
   "cell_type": "markdown",
   "metadata": {},
   "source": [
    "``@time``は、ブロックでの実行時間を調べてくれるマクロである。\n",
    "この他にも色々マクロがある。"
   ]
  },
  {
   "cell_type": "markdown",
   "metadata": {},
   "source": [
    "## プロット\n",
    "\n",
    "ここでは、PyPlotを使って作図をする。これは、python でのmatplotlib.pyplot を内部で使うものである。\n",
    "Julia にも``Plot.jl``と呼ばれる作図用のライブラリがあるが、\n",
    "現在までのところではPyPlot のほうが見栄えが良いように思う。"
   ]
  },
  {
   "cell_type": "code",
   "execution_count": 26,
   "metadata": {},
   "outputs": [
    {
     "name": "stderr",
     "output_type": "stream",
     "text": [
      "┌ Warning: PyPlot is using tkagg backend, which is known to cause crashes on MacOS (#410); use the MPLBACKEND environment variable to request a different backend.\n",
      "└ @ PyPlot /Users/akio/.julia/packages/PyPlot/XHEG0/src/init.jl:192\n"
     ]
    }
   ],
   "source": [
    "import PyPlot: plt"
   ]
  },
  {
   "cell_type": "markdown",
   "metadata": {},
   "source": [
    "ここで、``import`` はライブラリを呼び出す命令である。\n",
    "\n",
    "例として``sin(x)``のプロットをしてみよう。"
   ]
  },
  {
   "cell_type": "code",
   "execution_count": 27,
   "metadata": {},
   "outputs": [
    {
     "data": {
      "image/png": "[encoded data removed]",
      "text/plain": [
       "PyPlot.Figure(PyObject <Figure size 640x480 with 1 Axes>)"
      ]
     },
     "metadata": {},
     "output_type": "display_data"
    }
   ],
   "source": [
    "x=collect(0:0.1:2π) # 0から2πまで0.1刻みの変数を用意する。\n",
    "y=sin.(x) # sinをxの各要素に作用させる。\n",
    "plt.plot(x,y)\n",
    "plt.xlabel(raw\"$x$\")\n",
    "plt.ylabel(raw\"$\\sin(x)$\") #LaTeX 記法を使うため、raw をつける。\n",
    "plt.show()"
   ]
  },
  {
   "cell_type": "markdown",
   "metadata": {},
   "source": [
    "ここで、1行目のcollect は、配列をつくる関数、``:``が3つ並んだものは、スタート:ステップ:最終値という形で指定できる、数列をつくる機能である。\n",
    "2行目のsin.(x)の.は、各要素に作用させるという意味で、Puthonでいうところのユニバーサル関数である。"
   ]
  },
  {
   "cell_type": "markdown",
   "metadata": {},
   "source": [
    "エラーバー付きのプロットも、python と同様に、"
   ]
  },
  {
   "cell_type": "code",
   "execution_count": 28,
   "metadata": {},
   "outputs": [
    {
     "data": {
      "image/png": "[encoded data removed]",
      "text/plain": [
       "PyPlot.Figure(PyObject <Figure size 640x480 with 1 Axes>)"
      ]
     },
     "metadata": {},
     "output_type": "display_data"
    }
   ],
   "source": [
    "Ndata = 10\n",
    "x=range(0,1,length=Ndata)\n",
    "y=2*x\n",
    "e=rand(Float64,Ndata)/10\n",
    "#\n",
    "plt.errorbar(x,y,yerr=e)\n",
    "plt.xlabel(\"x\")\n",
    "plt.show()"
   ]
  },
  {
   "cell_type": "markdown",
   "metadata": {},
   "source": [
    "とできる。ここで``rand()``は0から1の乱数をつくる関数で、引数無しで実行すると\n",
    "1つづつ乱数を生成できる。"
   ]
  },
  {
   "cell_type": "code",
   "execution_count": 29,
   "metadata": {
    "scrolled": true
   },
   "outputs": [
    {
     "name": "stdout",
     "output_type": "stream",
     "text": [
      "r=0.9438626742712801\n",
      "r=0.30654635126494933\n",
      "r=0.637522275398696\n",
      "r=0.27845099599465084\n",
      "r=0.42932341135706653\n"
     ]
    }
   ],
   "source": [
    "for i =1:5\n",
    "    r=rand()\n",
    "    println(\"r=$r\")\n",
    "end"
   ]
  },
  {
   "cell_type": "markdown",
   "metadata": {},
   "source": [
    "ヒストグラムもかける。"
   ]
  },
  {
   "cell_type": "code",
   "execution_count": 30,
   "metadata": {},
   "outputs": [
    {
     "data": {
      "image/png": "[encoded data removed]",
      "text/plain": [
       "PyPlot.Figure(PyObject <Figure size 640x480 with 1 Axes>)"
      ]
     },
     "metadata": {},
     "output_type": "display_data"
    }
   ],
   "source": [
    "x=randn(10000)\n",
    "plt.hist(x,bins=100)\n",
    "plt.xlabel(\"x\")\n",
    "plt.show()"
   ]
  },
  {
   "cell_type": "markdown",
   "metadata": {},
   "source": [
    "ここで``randn()``は正規分布に従う乱数を生成する関数である。"
   ]
  },
  {
   "cell_type": "markdown",
   "metadata": {},
   "source": [
    "## Numpyをつかう\n",
    "\n",
    "ここでは、Pythonのライブラリをつかう``PyCall``の例としてNumpy をよびだしてみる。\n",
    "\n",
    "Pycall のインストール等は、https://qiita.com/yatra9/items/0a1a9a5ba19e9efe08c0 を参照。"
   ]
  },
  {
   "cell_type": "code",
   "execution_count": 31,
   "metadata": {},
   "outputs": [],
   "source": [
    "using PyCall\n",
    "np=pyimport(\"numpy\");"
   ]
  },
  {
   "cell_type": "markdown",
   "metadata": {},
   "source": [
    "このようにすると、Python と同じように``np.hoge``などとするとnumpy の機能を使える。\n",
    "\n",
    "たとえば、数列をつくる``linspace ``をつかうなら、"
   ]
  },
  {
   "cell_type": "code",
   "execution_count": 32,
   "metadata": {},
   "outputs": [
    {
     "data": {
      "text/plain": [
       "5-element Array{Float64,1}:\n",
       " 0.0\n",
       " 0.25\n",
       " 0.5\n",
       " 0.75\n",
       " 1.0"
      ]
     },
     "execution_count": 32,
     "metadata": {},
     "output_type": "execute_result"
    }
   ],
   "source": [
    "np.linspace(0,1,5)"
   ]
  },
  {
   "cell_type": "markdown",
   "metadata": {},
   "source": [
    "とすれば良い。また``np.loadtxt``などもつかえるため、``numpy``の高機能なload, save をつかうことができる。"
   ]
  },
  {
   "cell_type": "markdown",
   "metadata": {},
   "source": [
    "# 簡単な数値計算\n",
    "\n",
    "以下では、簡単な数値計算の実例として、微分方程式を解くオイラー法、そして積分をする手法であるモンテカルロ積分を紹介する。"
   ]
  },
  {
   "cell_type": "markdown",
   "metadata": {},
   "source": [
    "## オイラー法\n",
    "\n",
    "オイラー法とは、微分方程式\n",
    "\n",
    "$$\n",
    "\\frac{dx(t)}{dt} = \\cdots\n",
    "$$\n",
    "\n",
    "などを解く、簡単(だが精度の悪い)手法である。この他にルンゲクッタ法やシンプレクティック積分法などがあるが割愛する。"
   ]
  },
  {
   "cell_type": "markdown",
   "metadata": {},
   "source": [
    "オイラー法は、上の微分方程式の左辺を離散化し、\n",
    "\n",
    "$$\n",
    "\\frac{x(t+h)-x(t)}{h} = \\cdots\n",
    "$$\n",
    "\n",
    "とし、hを両辺にかけて、\n",
    "\n",
    "$$\n",
    "x(t+h)-x(t) = (\\cdots)\\times h\n",
    "$$\n",
    "\n",
    "そして$x(t+h)$についてといて　\n",
    "\n",
    "$$\n",
    "x(t+h) = x(t) + (\\cdots)\\times h\n",
    "$$\n",
    "\n",
    "として、小さい$h$ずつ$x$を進めて求めていく手法である。"
   ]
  },
  {
   "cell_type": "markdown",
   "metadata": {},
   "source": [
    "ここでは、\n",
    "\n",
    "\n",
    "$$\n",
    "\\frac{dx}{dt} = -4(t-1)x\n",
    "$$\n",
    "\n",
    "を$x(t)$について解く。\n",
    "初期条件は、$t=0$で$x(t=0)=e^{-2}$とする。\n",
    "積分区間は、$0<t<1$、ステップ幅は$h=0.1$とする。"
   ]
  },
  {
   "cell_type": "markdown",
   "metadata": {},
   "source": [
    "ここでJulia の機能の一つを導入する。\n",
    "``\\euler``とREPL かセルのなかに入れてJupyter でtab キーをおすと\n",
    "``ℯ``が入力できる。``ℯ``は``e``とは異なりネイピア数という数学定数を表す。"
   ]
  },
  {
   "cell_type": "code",
   "execution_count": 33,
   "metadata": {},
   "outputs": [
    {
     "data": {
      "text/plain": [
       "ℯ = 2.7182818284590..."
      ]
     },
     "execution_count": 33,
     "metadata": {},
     "output_type": "execute_result"
    }
   ],
   "source": [
    "ℯ"
   ]
  },
  {
   "cell_type": "markdown",
   "metadata": {},
   "source": [
    "以下で実際のオイラー法を実装、実行、プロットしてみる。"
   ]
  },
  {
   "cell_type": "code",
   "execution_count": 34,
   "metadata": {},
   "outputs": [
    {
     "data": {
      "image/png": "[encoded data removed]",
      "text/plain": [
       "PyPlot.Figure(PyObject <Figure size 640x480 with 1 Axes>)"
      ]
     },
     "metadata": {},
     "output_type": "display_data"
    }
   ],
   "source": [
    "import PyPlot: plt #上でインポート済みであるが、単独のセルで実行できるように。\n",
    "\n",
    "#\n",
    "# Plot Exact solution\n",
    "t_plot=collect(0:0.05:1)\n",
    "x_plot=ℯ.^(-2*(t_plot.-1).^2)\n",
    "plt.plot(t_plot,x_plot,label=\"Exact\")\n",
    "#\n",
    "function eular_method(x_init,tmin,tmax;h,line) #引数内のセミコロン; はキーワード引数と呼ばれる機能で変数名をキーワードに指定して関数を定義できる。\n",
    "    Nmax = Int((tmax-tmin)/h) # Int(...) とすると整数型に型をキャストできる。\n",
    "    x = x_init\n",
    "    t_plot=Float64[0.0]\n",
    "    x_plot=Float64[x]\n",
    "    for it=1:Nmax\n",
    "        t=tmin+it*h\n",
    "        x=x-4.0*(t-1.0)*x*h\n",
    "        append!(t_plot,t)\n",
    "        append!(x_plot,x)\n",
    "    end\n",
    "    if line\n",
    "        plt.plot(t_plot,x_plot,label=\"Eular h=$h\",color=\"red\")\n",
    "    else\n",
    "        plt.scatter(t_plot,x_plot,label=\"Eular h=$h\",marker=\".\")\n",
    "    end\n",
    "end\n",
    "eular_method(ℯ^(-2),0.0,1.0,h=0.1,line=false)\n",
    "eular_method(ℯ^(-2),0.0,1.0,h=0.01,line=false)\n",
    "eular_method(ℯ^(-2),0.0,1.0,h=0.001,line=true)\n",
    "#\n",
    "plt.ylabel(raw\"$x(t)$\") \n",
    "plt.xlabel(raw\"$t$\") \n",
    "plt.legend() # ラベルを表示\n",
    "plt.ylim(0,1.2) # ラベルを表示\n",
    "plt.show()"
   ]
  },
  {
   "cell_type": "markdown",
   "metadata": {},
   "source": [
    "## モンテカルロ積分"
   ]
  },
  {
   "cell_type": "markdown",
   "metadata": {},
   "source": [
    "ここでは、モンテカルロ積分を行って、円周率の近似値を求める。\n",
    "\n",
    "以下の方法は、半径1の円の第一象限の面積と第一象限にある1辺の長さが1の正方形の面積比が$π/4$になることに基づいている。\n",
    "\n",
    "モンテカルロ法の誤差は試行回数$N$とし時に一般に$O(1/\\sqrt(N))$となるため、誤差は比較的大きい。"
   ]
  },
  {
   "cell_type": "code",
   "execution_count": 35,
   "metadata": {},
   "outputs": [
    {
     "data": {
      "image/png": "[encoded data removed]",
      "text/plain": [
       "PyPlot.Figure(PyObject <Figure size 640x480 with 1 Axes>)"
      ]
     },
     "metadata": {},
     "output_type": "display_data"
    },
    {
     "name": "stdout",
     "output_type": "stream",
     "text": [
      "pi10=3.2\n",
      "pi500=3.16\n"
     ]
    }
   ],
   "source": [
    "import PyPlot: plt #上でインポート済みであるが、単独のセルで実行できるように。\n",
    "\n",
    "function montecarlo_pi(Nmax=10) #引数内の=は、デフォルト引数と呼ばれる。何も指定しないときに自動的に使われる。\n",
    "    cnt = 0\n",
    "    x_plot=[]\n",
    "    y_plot=[]\n",
    "    for i=1:Nmax\n",
    "        x=rand()\n",
    "        y=rand()\n",
    "        if x^2+y^2 < 1\n",
    "            cnt+=1\n",
    "        end\n",
    "        append!(x_plot,x)\n",
    "        append!(y_plot,y)\n",
    "    end\n",
    "    plt.scatter(x_plot,y_plot,label=\"Monte-carlo N=$Nmax\",marker=\".\",alpha=0.5)\n",
    "    return cnt/Nmax*4 # pi = 4*(pi/4)\n",
    "end\n",
    "pi10=montecarlo_pi()\n",
    "println(\"pi10=$pi10\")\n",
    "pi500=montecarlo_pi(500)\n",
    "println(\"pi500=$pi500\")\n",
    "#=\n",
    "pi10000=montecarlo_pi(10000)\n",
    "println(\"pi10000=$pi10000\")\n",
    "=#\n",
    "#\n",
    "θ = collect(0:0.1:π/2)\n",
    "x_plot = cos.(θ)\n",
    "y_plot = sin.(θ)\n",
    "plt.plot(x_plot,y_plot,color=\"red\")\n",
    "#\n",
    "plt.axes().set_aspect(\"equal\")\n",
    "plt.xlim(-0.05,1.5)\n",
    "plt.ylim(-0.05,1.5)\n",
    "plt.legend() # ラベルを表示\n",
    "plt.show()"
   ]
  },
  {
   "cell_type": "markdown",
   "metadata": {},
   "source": [
    "ここで、\n",
    "```\n",
    "#=\n",
    "...\n",
    "=#\n",
    "```\n",
    "は数行に渡るコメントアウトを意味する。"
   ]
  },
  {
   "cell_type": "markdown",
   "metadata": {},
   "source": [
    "## 線形代数\n",
    "\n",
    "詳細は触れないが、線形代数の演算も可能である。その際には、\n",
    "LinearAlgebra をロードする。"
   ]
  },
  {
   "cell_type": "code",
   "execution_count": 36,
   "metadata": {},
   "outputs": [],
   "source": [
    "using LinearAlgebra"
   ]
  },
  {
   "cell_type": "markdown",
   "metadata": {},
   "source": [
    "代表的なものは下記の通り。"
   ]
  },
  {
   "cell_type": "code",
   "execution_count": 37,
   "metadata": {},
   "outputs": [
    {
     "name": "stdout",
     "output_type": "stream",
     "text": [
      "tr(A)=3\n"
     ]
    }
   ],
   "source": [
    "# トレース\n",
    "A = [\n",
    "    1 0\n",
    "    0 2\n",
    "]\n",
    "println(\"tr(A)=$(tr(A))\")"
   ]
  },
  {
   "cell_type": "code",
   "execution_count": 38,
   "metadata": {},
   "outputs": [
    {
     "name": "stdout",
     "output_type": "stream",
     "text": [
      "inv(A)=[1.0 0.0; 0.0 0.5]\n"
     ]
    }
   ],
   "source": [
    "# 逆行列\n",
    "A = [\n",
    "    1 0\n",
    "    0 2\n",
    "]\n",
    "println(\"inv(A)=$(inv(A))\")"
   ]
  },
  {
   "cell_type": "code",
   "execution_count": 39,
   "metadata": {},
   "outputs": [
    {
     "name": "stdout",
     "output_type": "stream",
     "text": [
      "det(A)=2.0\n"
     ]
    }
   ],
   "source": [
    "# デターミナント(行列式)\n",
    "A = [\n",
    "    1 0\n",
    "    0 2\n",
    "]\n",
    "println(\"det(A)=$(det(A))\")"
   ]
  },
  {
   "cell_type": "code",
   "execution_count": null,
   "metadata": {},
   "outputs": [],
   "source": []
  },
  {
   "cell_type": "code",
   "execution_count": null,
   "metadata": {},
   "outputs": [],
   "source": []
  }
 ],
 "metadata": {
  "kernelspec": {
   "display_name": "Julia 1.5.1",
   "language": "julia",
   "name": "julia-1.5"
  },
  "language_info": {
   "file_extension": ".jl",
   "mimetype": "application/julia",
   "name": "julia",
   "version": "1.5.1"
  }
 },
 "nbformat": 4,
 "nbformat_minor": 2
}
